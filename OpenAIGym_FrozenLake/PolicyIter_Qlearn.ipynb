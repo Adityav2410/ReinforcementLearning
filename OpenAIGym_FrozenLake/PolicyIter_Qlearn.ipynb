{
 "cells": [
  {
   "cell_type": "markdown",
   "metadata": {},
   "source": [
    "# Assignment 1: Tabular Methods\n",
    "\n",
    "Name: Aditya Raj Verma\n",
    "\n",
    "ID:   A53219148"
   ]
  },
  {
   "cell_type": "markdown",
   "metadata": {},
   "source": [
    "This exercise requires you to solve a simple grid-world problem called 'FrozenLake-v0' in OpenAI Gym.  We will solve the problem in two different ways. First we will solve the problem using dynamic programming, thus requiring a model of the system. Second we will do it using model-free temporal difference (Q-Learning). Finally, as a bonus you may also show it learning using a naive approach called hill-climbing. \n",
    "\n",
    "### Required for all \n",
    "#### Set up environment"
   ]
  },
  {
   "cell_type": "code",
   "execution_count": 1,
   "metadata": {},
   "outputs": [],
   "source": [
    "%matplotlib inline\n",
    "import gym\n",
    "import numpy as np\n",
    "from matplotlib import pyplot as plt\n",
    "env = gym.make('FrozenLake-v0')"
   ]
  },
  {
   "cell_type": "markdown",
   "metadata": {},
   "source": [
    "#### Pre. Test Policy Function\n",
    "Write a function to test a policy. Return the average rate of successful episodes over 100 trials. "
   ]
  },
  {
   "cell_type": "code",
   "execution_count": 2,
   "metadata": {},
   "outputs": [],
   "source": [
    "def runEpisode(policy):\n",
    "    state, reward, done = [env.reset(), 0, False]\n",
    "    while not done:\n",
    "        state, reward, done , _ = env.step(policy[state])\n",
    "    return reward\n",
    "    \n",
    "def testPolicy(policy):\n",
    "    #%% ---> start of code\n",
    "    #%% <--- end of code\n",
    "    nSuccess = 0\n",
    "    for i in range(100):\n",
    "        nSuccess += 1 if runEpisode(policy) else 0\n",
    "    percentSuccess = nSuccess/100.0\n",
    "    return percentSuccess"
   ]
  },
  {
   "cell_type": "markdown",
   "metadata": {},
   "source": [
    "## Model-based Learning\n",
    "\n",
    "### 1. Policy Iteration\n",
    "Perform policy iteration on the Frozenlake example. \n",
    "\n",
    "\n",
    "#### 1.1 Find the system model\n",
    "First, model $T(s,a,s')$ and $R(s,a,s')$ over 100000 randomly initializations."
   ]
  },
  {
   "cell_type": "code",
   "execution_count": 3,
   "metadata": {},
   "outputs": [],
   "source": [
    "def learnModelUtil():\n",
    "    state, reward, done = [env.reset(), 0, False]\n",
    "    sas_count = np.zeros((16, 4, 16))\n",
    "    sa_count  = np.zeros((16, 4, 1))\n",
    "    r_sas     = np.zeros((16, 4, 16))\n",
    "    for state in range(16):\n",
    "        for action in range(4):\n",
    "            env.env.s = state\n",
    "            next_state, reward, _ , _ = env.step(action)\n",
    "\n",
    "            sas_count[state,action,next_state] += 1\n",
    "            sa_count[state,action, 0] += 1\n",
    "            r_sas[state,action,next_state] += reward\n",
    "\n",
    "    return sa_count, sas_count, r_sas\n",
    "\n",
    "def learnModel():\n",
    "    #%% ---> start of code\n",
    "    #%% <--- end of code\n",
    "    nTrials = 100000\n",
    "    overall_sa_count  = np.zeros((16, 4, 1))+0.0001\n",
    "    overall_sas_count = np.zeros((16, 4, 16))+0.0001\n",
    "    overall_r_sas     = np.zeros((16, 4, 16))\n",
    "\n",
    "    for i in range(nTrials):\n",
    "        sa_count, sas_count, r_sas = learnModelUtil()\n",
    "        overall_sa_count += sa_count\n",
    "        overall_sas_count += sas_count\n",
    "        overall_r_sas += r_sas\n",
    "    \n",
    "    T = np.around(overall_sas_count/overall_sa_count, 4)\n",
    "    R = np.around(overall_r_sas/overall_sas_count, 4)\n",
    "    env.reset()\n",
    "    return R,T\n",
    "\n",
    "#first learn the model    \n",
    "[R,T] = learnModel()"
   ]
  },
  {
   "cell_type": "markdown",
   "metadata": {},
   "source": [
    "#### 1.2 What does the transition model tell you about the stochastic behavior of actions? What does it tell you about the stochasticity  of the rewards? What would you expect an optimal agent's policy to do?"
   ]
  },
  {
   "cell_type": "markdown",
   "metadata": {},
   "source": [
    "Answer: <br>\n",
    "From the Transition model, it seems that the surface is highly slippery. Inspite of taking any particular action(Left, right, etc), for many of the states, almost 33% times we landed at a different state different from the expected state.\n",
    "\n",
    "From the Reward model, we see that we get a positive reward only when at state 14. This indicates that the agent needs to somehow make its way to state 14 after which it can get some reward."
   ]
  },
  {
   "cell_type": "markdown",
   "metadata": {},
   "source": [
    "#### 1.3 Write a function for Policy Evaluation"
   ]
  },
  {
   "cell_type": "code",
   "execution_count": 4,
   "metadata": {},
   "outputs": [],
   "source": [
    "#runPolicyEvaluation:\n",
    "def runPolicyEvaluation(policy,V,R,T,discount_factor):\n",
    "#     bp()\n",
    "    #%% ---> start of code\n",
    "    #%% <--- end of code\n",
    "    discountedV = discount_factor * V\n",
    "    Vnew = np.zeros_like(V)\n",
    "    state = 2\n",
    "    next_state = 2\n",
    "    for state in range(16):\n",
    "        for next_state in range(16):\n",
    "                Vnew[state] += ( T[state, policy[state], next_state] * ( R[state, policy[state], next_state] + discountedV[next_state] ) )\n",
    "    return Vnew\n",
    "\n",
    "def updatePolicy(V, discount_factor):\n",
    "    discountedV = discount_factor * V.reshape([1,-1])\n",
    "    policy = np.zeros(16).astype(int)\n",
    "    for state in range(16):\n",
    "        r = np.sum( T[state]*(R[state] + discountedV), axis = 1 )\n",
    "        policy[state] = np.argmax(r)\n",
    "    return policy"
   ]
  },
  {
   "cell_type": "markdown",
   "metadata": {},
   "source": [
    "#### 1.4 Run Policy iteration.\n",
    "and show a bar graph of successful runs vs iteration on the policy. Use a discount factor of 0.98, and terminate policy  after 40 iterations of policy updates.  Plot the percentSuccesses at every iteration (i.e. the return of the testPolicy function)."
   ]
  },
  {
   "cell_type": "code",
   "execution_count": 5,
   "metadata": {
    "scrolled": false
   },
   "outputs": [
    {
     "name": "stdout",
     "output_type": "stream",
     "text": [
      "('Policy iteration policy:', array([0, 3, 0, 3, 0, 0, 2, 0, 3, 1, 0, 0, 0, 2, 1, 0]))\n"
     ]
    },
    {
     "data": {
      "image/png": "[encoded data removed]",
      "text/plain": [
       "<matplotlib.figure.Figure at 0x7fb645eb7a50>"
      ]
     },
     "metadata": {},
     "output_type": "display_data"
    }
   ],
   "source": [
    "#%% ---> start of code\n",
    "#%% <--- end of code\n",
    "discount_factor = 0.98\n",
    "V = np.zeros(16)\n",
    "policy = np.random.randint(4, size=16)\n",
    "\n",
    "percentSuccesses = []\n",
    "percentSuccesses.append(testPolicy(policy))\n",
    "for i in range(40):\n",
    "    V = runPolicyEvaluation(policy,V,R,T,discount_factor)\n",
    "    policy = updatePolicy(V, discount_factor)\n",
    "    acc = testPolicy(policy)\n",
    "    percentSuccesses.append(acc)\n",
    "\n",
    "    \n",
    "# plot improvement over time\n",
    "plt.figure()\n",
    "plt.bar(np.arange(len(percentSuccesses)), 100*np.array(percentSuccesses), align='center', alpha=0.5)\n",
    "plt.ylabel('% Episodes Successful')\n",
    "plt.xlabel('Iteration')\n",
    "plt.title('Policy Iteration',fontsize=16)\n",
    "print('Policy iteration policy:', policy)"
   ]
  },
  {
   "cell_type": "markdown",
   "metadata": {},
   "source": [
    "## Model-Free Learning"
   ]
  },
  {
   "cell_type": "markdown",
   "metadata": {},
   "source": [
    "### 2 Q Value-Iteration (Q-Learning)\n",
    "\n",
    "#### 2.1 Set up a Q learning function\n",
    "Set your exploration rate to 1-episode_num/total_num_of_episodes for linear convergence from completely random action selection to a greedy policy. Return a set of policies (at 5%, 10%,...100% of the total number of episodes) so that in the later section you can perform policy evaluation on intermediate Q-tables and show progress."
   ]
  },
  {
   "cell_type": "code",
   "execution_count": 6,
   "metadata": {},
   "outputs": [],
   "source": [
    "def runQLearning(learning_rate,discount_factor,num_of_episodes,Q0,explore_type='linear'):\n",
    "    #%% code starts here\n",
    "    #%% code ends here\n",
    "    Qsa = np.copy(Q0)\n",
    "    Qnew = np.zeros_like(Qsa)\n",
    "    policies = []\n",
    "    for episode_num in range(1,num_of_episodes+1):\n",
    "        env.reset()\n",
    "        policy = getPolicy(Qsa)\n",
    "        Qnew = np.copy(Qsa)\n",
    "        if explore_type == 'linear':\n",
    "            eps = 1 - episode_num/float(num_of_episodes)\n",
    "        elif explore_type == 'log':\n",
    "            eps = 1 - (1000/(1000.0 + episode_num))\n",
    "        else:\n",
    "            print \"Error: Unsupported exploration type \", explore_type\n",
    "            break\n",
    "        \n",
    "        for state in range(16):\n",
    "            env.env.s = state\n",
    "            # choose action as per epsilon-greedy\n",
    "            if np.random.uniform() < eps:\n",
    "                action = np.random.randint(env.action_space.n)\n",
    "            else:\n",
    "                action = policy[state]\n",
    "        \n",
    "            # execute step\n",
    "            next_state, reward, _ , _ = env.step(action)\n",
    "#             bp()\n",
    "            try:\n",
    "                Qnew[state, action] += learning_rate*(reward + discount_factor*Qsa[next_state].max() - Qsa[state, action] )\n",
    "            except Exception as e:\n",
    "                print e\n",
    "                bp()\n",
    "        Qsa = np.copy(Qnew)\n",
    "        \n",
    "        if( (20*episode_num) % (num_of_episodes) == 0):\n",
    "            policy = getPolicy(Qsa)\n",
    "            policies.append(policy)\n",
    "        \n",
    "    return Qsa, policies\n",
    "\n",
    "def getPolicy(Qsa):\n",
    "    policy = np.zeros((env.observation_space.n))\n",
    "    for state in range(env.observation_space.n):\n",
    "        policy[state] = Qsa[state].argmax()\n",
    "    return policy.astype(int)"
   ]
  },
  {
   "cell_type": "markdown",
   "metadata": {},
   "source": [
    "#### 2.1 Perform Q-learning. \n",
    "Show policies during intermediate phases of Q-learning, at 0, 10%, 20%,...,100% of the total episodes during training. Set a learning rate of 0.98 and a discount factor of 0.95. Start with a zero-filled Q-table. Run 10000 episodes. Plot the bar graph of the success rate over time to visualize the improvements to success rate the new policies are providing. "
   ]
  },
  {
   "cell_type": "code",
   "execution_count": 7,
   "metadata": {},
   "outputs": [
    {
     "name": "stdout",
     "output_type": "stream",
     "text": [
      "('Q-learning (linear) policy:', array([0, 3, 0, 3, 0, 0, 0, 0, 3, 1, 0, 0, 0, 2, 1, 0]))\n"
     ]
    },
    {
     "data": {
      "image/png": "[encoded data removed]",
      "text/plain": [
       "<matplotlib.figure.Figure at 0x7fb645e8d410>"
      ]
     },
     "metadata": {},
     "output_type": "display_data"
    }
   ],
   "source": [
    "#%% ---> start of code\n",
    "#%% <--- end of code\n",
    "learning_rate = 0.02\n",
    "discount_factor = 0.95\n",
    "num_of_episodes = 10000\n",
    "Q0 = np.zeros([env.observation_space.n, env.action_space.n])\n",
    "Qsa, policies = runQLearning(learning_rate,discount_factor,num_of_episodes,Q0,explore_type='linear')\n",
    "percentSuccesses = []\n",
    "for i, policy in enumerate(policies):\n",
    "    succ = testPolicy(policy)\n",
    "    percentSuccesses.append(succ)\n",
    "\n",
    "plt.figure()\n",
    "plt.bar(np.arange(len(percentSuccesses)), 100*np.array(percentSuccesses), align='center', alpha=0.5)\n",
    "plt.ylabel('% Episodes Successful')\n",
    "plt.xlabel('Iterations')\n",
    "plt.title('linear Rate Exploitation', fontsize=16)\n",
    "print('Q-learning (linear) policy:', policy)"
   ]
  },
  {
   "cell_type": "markdown",
   "metadata": {},
   "source": [
    "#### 1.4 Log Rate Exploration\n",
    "\n",
    "Run Q-learning for a log exploration rate, $\\frac{1000}{1000+\\text{episode_num}}$, for 10,000 episodes. Perform policy evaluation and plot the success rate over time. You may find setting Q0 to a random number initialization helps (set it to something very small, i.e. 0.000001\\*rand(), since setting it to zero sets a fixed seed)."
   ]
  },
  {
   "cell_type": "code",
   "execution_count": 8,
   "metadata": {},
   "outputs": [
    {
     "name": "stdout",
     "output_type": "stream",
     "text": [
      "('Q-learning (log) policy:', array([0, 3, 0, 3, 0, 0, 2, 2, 3, 1, 0, 2, 2, 2, 1, 3]))\n"
     ]
    },
    {
     "data": {
      "image/png": "[encoded data removed]",
      "text/plain": [
       "<matplotlib.figure.Figure at 0x7fb643a25f90>"
      ]
     },
     "metadata": {},
     "output_type": "display_data"
    }
   ],
   "source": [
    "#%% ---> start of code\n",
    "#%% <--- end of code\n",
    "learning_rate = 0.02\n",
    "discount_factor = 0.95\n",
    "num_of_episodes = 10000\n",
    "Q0 = np.random.uniform(size=[env.observation_space.n, env.action_space.n]) * 0.000001\n",
    "Qsa, policies = runQLearning(learning_rate,discount_factor,num_of_episodes,Q0,explore_type='log')\n",
    "percentSuccesses = []\n",
    "for i, policy in enumerate(policies):\n",
    "    succ = testPolicy(policy)\n",
    "    percentSuccesses.append(succ)\n",
    "\n",
    "\n",
    "plt.figure()\n",
    "plt.bar(np.arange(len(percentSuccesses)), 100*np.array(percentSuccesses), align='center', alpha=0.5)\n",
    "plt.ylabel('% Episodes Successful')\n",
    "plt.xlabel('Iterations')\n",
    "plt.title('Log Rate Exploitation', fontsize=16)\n",
    "print('Q-learning (log) policy:', policy)"
   ]
  },
  {
   "cell_type": "markdown",
   "metadata": {
    "collapsed": true
   },
   "source": [
    "### BONUS: Hill Climbing (25%, granted only if Parts 1 and 2 are complete)\n",
    "\n",
    "Demonstrate hill climbing, where your Q values are chosen randomly, and you save improvements, with new Q values to try as $$Q_{test}\\leftarrow Q_{best}+rand(S,A)$$\n",
    "Plot the a bar graph with x-axis labelling the iteration number when an improvement occurred, and y axis as the % of successful episodes. Run on N = 1000 iterations of hill climbing, with 100 episodes per iteration. "
   ]
  },
  {
   "cell_type": "code",
   "execution_count": 27,
   "metadata": {
    "scrolled": true
   },
   "outputs": [
    {
     "name": "stdout",
     "output_type": "stream",
     "text": [
      "(array([0, 3, 1, 1, 0, 0, 3, 0, 3, 1, 1, 1, 1, 2, 1, 1]), ': Hill-climbing policy')\n"
     ]
    },
    {
     "data": {
      "image/png": "[encoded data removed]",
      "text/plain": [
       "<matplotlib.figure.Figure at 0x7fb64324e1d0>"
      ]
     },
     "metadata": {},
     "output_type": "display_data"
    }
   ],
   "source": [
    "#%% ---> start of code\n",
    "#%% <--- end of code\n",
    "nState = env.observation_space.n\n",
    "nAction = env.action_space.n\n",
    "Qbest = np.random.rand(nState, nAction)\n",
    "best_policy = np.random.randint(4, size=nState)\n",
    "bestAccuracy = testPolicy(best_policy)\n",
    "percentSuccesses = []\n",
    "improvementsIndex = []\n",
    "\n",
    "for index in range(10000):\n",
    "    Qtest = Qbest + np.random.rand(nState, nAction)\n",
    "    test_policy = getPolicy(Qtest)\n",
    "    test_Accuracy = testPolicy(test_policy)\n",
    "    if test_Accuracy > bestAccuracy:\n",
    "        bestAccuracy = test_Accuracy\n",
    "        best_policy = np.copy(test_policy)\n",
    "        improvementsIndex.append(index)\n",
    "        percentSuccesses.append(test_Accuracy)\n",
    "plt.figure()\n",
    "plt.bar(np.arange(len(improvementsIndex)), 100*np.array(percentSuccesses), align='center', alpha=0.5)\n",
    "plt.xticks(np.arange(len(improvementsIndex)),improvementsIndex) \n",
    "plt.ylabel('% Episodes Successful')\n",
    "plt.xlabel('Iteration')\n",
    "plt.title('Hill Climbing',fontsize=16)\n",
    "print(best_policy,': Hill-climbing policy')"
   ]
  }
 ],
 "metadata": {
  "kernelspec": {
   "display_name": "tf",
   "language": "python",
   "name": "tf"
  },
  "language_info": {
   "codemirror_mode": {
    "name": "ipython",
    "version": 2
   },
   "file_extension": ".py",
   "mimetype": "text/x-python",
   "name": "python",
   "nbconvert_exporter": "python",
   "pygments_lexer": "ipython2",
   "version": "2.7.12"
  },
  "varInspector": {
   "cols": {
    "lenName": 16,
    "lenType": 16,
    "lenVar": 40
   },
   "kernels_config": {
    "python": {
     "delete_cmd_postfix": "",
     "delete_cmd_prefix": "del ",
     "library": "var_list.py",
     "varRefreshCmd": "print(var_dic_list())"
    },
    "r": {
     "delete_cmd_postfix": ") ",
     "delete_cmd_prefix": "rm(",
     "library": "var_list.r",
     "varRefreshCmd": "cat(var_dic_list()) "
    }
   },
   "types_to_exclude": [
    "module",
    "function",
    "builtin_function_or_method",
    "instance",
    "_Feature"
   ],
   "window_display": false
  }
 },
 "nbformat": 4,
 "nbformat_minor": 2
}
