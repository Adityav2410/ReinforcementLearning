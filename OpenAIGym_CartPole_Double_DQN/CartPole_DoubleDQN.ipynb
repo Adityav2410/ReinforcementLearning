{
 "cells": [
  {
   "cell_type": "markdown",
   "metadata": {},
   "source": [
    "# Assignment 2: Function Approximation for Q Learning\n",
    "\n",
    "Name: Aditya Raj Verma\n",
    " \n",
    "ID:   A53219148"
   ]
  },
  {
   "cell_type": "markdown",
   "metadata": {},
   "source": [
    "### 1. Cartpole\n",
    "\n",
    "A cartpole problem is shown below.\n",
    "![pendulum2.png](pendulum2.png)\n",
    "\n",
    "The equation for the cartpole problem is nonlinear in nature, but it has been shown through robust control theory that a linear version of the equation of the form $\\dot{x} = Ax+Bu$ can be solved by a linear controller. Let us assume that we are interested in minimizing cart stray from the center, and pendulum falling. It turns out that typical techniques - open loop control, PID control, root locus, etc. is not suitable for stabilizing both the cart position (keep near center) or the pole angle (keep vertical). The solution to this question is a linear quadratic controller, but we won't be using the solution at the moment."
   ]
  },
  {
   "cell_type": "markdown",
   "metadata": {},
   "source": [
    "### Setup Environment for Function Approximation\n"
   ]
  },
  {
   "cell_type": "code",
   "execution_count": 1,
   "metadata": {},
   "outputs": [
    {
     "name": "stderr",
     "output_type": "stream",
     "text": [
      "/usr/local/lib/python2.7/dist-packages/h5py/__init__.py:36: FutureWarning: Conversion of the second argument of issubdtype from `float` to `np.floating` is deprecated. In future, it will be treated as `np.float64 == np.dtype(float).type`.\n",
      "  from ._conv import register_converters as _register_converters\n"
     ]
    },
    {
     "name": "stdout",
     "output_type": "stream",
     "text": [
      "\u001b[33mWARN: gym.spaces.Box autodetected dtype as <type 'numpy.float32'>. Please provide explicit dtype.\u001b[0m\n"
     ]
    },
    {
     "data": {
      "text/plain": [
       "array([-0.00941251,  0.00232819, -0.00728504, -0.01237385])"
      ]
     },
     "execution_count": 1,
     "metadata": {},
     "output_type": "execute_result"
    }
   ],
   "source": [
    "import gym\n",
    "import numpy as np\n",
    "import tensorflow as tf\n",
    "import matplotlib.pyplot as plt\n",
    "\n",
    "# Create the CartPole game environment\n",
    "env = gym.make('CartPole-v0')\n",
    "env.reset()"
   ]
  },
  {
   "cell_type": "code",
   "execution_count": 2,
   "metadata": {},
   "outputs": [
    {
     "name": "stdout",
     "output_type": "stream",
     "text": [
      "Actions possible: \t2\n",
      "State dimension: \t4\n"
     ]
    }
   ],
   "source": [
    "action_size = env.action_space.n\n",
    "state_size = env.observation_space.shape[0]\n",
    "print \"Actions possible: \\t\", action_size\n",
    "print \"State dimension: \\t\", state_size"
   ]
  },
  {
   "cell_type": "markdown",
   "metadata": {},
   "source": [
    "#### Demonstrate your understanding of the simulation\n",
    "For OpenAI's CartPole-v0 environment,\n",
    "- describe the reward system\n",
    "- describe the each state variable (observation space)\n",
    "- describe the action space"
   ]
  },
  {
   "cell_type": "markdown",
   "metadata": {},
   "source": [
    "Ans: \n",
    "Reward system: As long as the pole is maintained vertical(not fallen), the agent is rewarded 1 point. When the pole falls, agent is rewarded 0 and the game ends. <br>\n",
    "State variable: There are 4 state variables: <br>\n",
    "* Cart position <br>\n",
    "* Cart velocity<br>\n",
    "* Pole angle<br>\n",
    "* Pole tip velocity<br>\n",
    "\n",
    "\n",
    "Action space: Left or right movement of cart\n"
   ]
  },
  {
   "cell_type": "markdown",
   "metadata": {},
   "source": [
    "### Write a Deep Neural Network class that creates a dense network of a desired architecture\n",
    "In this problem we will create neural network that is our function that takes states to q-values: $q=f(x)$. While any function approximator could be used (i.e. Chebyshev functions, taylor series polynomials), neural networks offer a most general form of 1st-order smooth function (though comprising of trivial small activation functions means that complex functions require a significant amount of weights to identify). \n",
    "\n",
    "Create a class for a QNetwork that uses PyTorch to create a fully connected sequential neural network, of the following properties:\n",
    "- solver: Adam\n",
    "\n",
    "- input and hidden layer activation function: tanh\n",
    "\n",
    "- output activation function: linear\n",
    "\n",
    "- loss: mse\n",
    "\n",
    "- learning_rate: variable\n",
    "\n",
    "- decay_rate: variable\n",
    "\n",
    "- hidden_state sizes: variable\n",
    "\n",
    "- state and action sizes: variable\n"
   ]
  },
  {
   "cell_type": "code",
   "execution_count": 24,
   "metadata": {},
   "outputs": [],
   "source": [
    "class QNetwork:\n",
    "# Define your network here   \n",
    "    def __init__(self, learning_rate, action_size = 2, state_size = 4, hidden_size = 64, alpha_decay = 0, scope = None ):\n",
    "        \n",
    "        self.learning_rate = learning_rate\n",
    "        self.state_size = state_size\n",
    "        self.action_size = action_size\n",
    "        self.hidden_size = hidden_size\n",
    "        self.scope = scope\n",
    "        self.alpha_decay = alpha_decay\n",
    "        with tf.variable_scope(scope):\n",
    "            self.build()\n",
    "            \n",
    "    def build(self, nHidden1 = 20):\n",
    "        # Input and output placeholder\n",
    "        self.inp = tf.placeholder(dtype= tf.float32, shape=(None, self.state_size), name=\"input\")\n",
    "        self.y_true = tf.placeholder(dtype = tf.float32, shape = (None, self.action_size), name = \"y_true\" )\n",
    "\n",
    "        # build model\n",
    "        with tf.variable_scope(\"cart-pole\"):\n",
    "            \n",
    "            # hidden layers\n",
    "            xx = tf.layers.dense(inputs = self.inp, units = self.hidden_size, activation = tf.nn.tanh , name=\"hidden_1\")\n",
    "            xx = tf.layers.dense(inputs = xx, units = self.hidden_size, activation = tf.nn.tanh , name=\"hidden_2\")\n",
    "            \n",
    "            # output layer\n",
    "            self.y_pred = tf.layers.dense(xx, self.action_size, name=\"y_pred\" )\n",
    "            #predicted output action\n",
    "            self.pred_action = tf.argmax(self.y_pred, 1, name = \"y_pred_action\")\n",
    "            \n",
    "            # calculate loss\n",
    "            self.loss = tf.losses.mean_squared_error(self.y_true, self.y_pred)\n",
    "\n",
    "            # optimization steps - with adaptive learning rate\n",
    "            self.global_step = tf.Variable(0, trainable=False)\n",
    "            self.starter_learning_rate = 0.001\n",
    "            self.learning_rate = tf.train.exponential_decay(self.starter_learning_rate, self.global_step,500, self.alpha_decay, staircase=True)\n",
    "            \n",
    "            # training op\n",
    "            self.train_op = tf.train.AdamOptimizer(learning_rate= self.learning_rate).minimize(self.loss, global_step=self.global_step)\n",
    "            \n",
    "    def train(self, inp, y_true):\n",
    "        feed_dict = {   self.inp : inp, self.y_true : y_true }             \n",
    "        [_, loss, _, _, abs_lr] = sess.run( [self.train_op, self.loss, self.y_pred, self.pred_action, self.learning_rate], feed_dict = feed_dict )\n",
    "        # save learning rate - useful to analyze adaptive learning rate\n",
    "        self.abs_lr = abs_lr\n",
    "\n",
    "    def predict(self, inp):\n",
    "        return sess.run( self.y_pred, feed_dict={self.inp:inp })"
   ]
  },
  {
   "cell_type": "markdown",
   "metadata": {},
   "source": [
    "#### Write a Replay class that includes all the functionality of a replay buffer\n",
    "The replay buffer should kept to some maximum size (10000), allow adding of samples and returning of samples at random from the buffer. Each sample (or experience) is formed as (state, action, reward, next_state, done). The replay buffer should also be able to generate a minibatch. The generate_minibatch method should take in DQN, targetDQN, selected batch_size, and return the states present in the minibatch and the target Q values for those states."
   ]
  },
  {
   "cell_type": "code",
   "execution_count": 23,
   "metadata": {},
   "outputs": [],
   "source": [
    "import random\n",
    "\n",
    "class Replay():\n",
    "# Replay should also have an initialize method which creates a minimum buffer for \n",
    "# the initial episodes to generate minibatches. \n",
    "    def __init__(self, dqn, targetDqn,  max_size = 10000, gamma = 0.95):\n",
    "        self.memory_size = max_size\n",
    "        self.memory = []\n",
    "        self.batch_size = 32\n",
    "        self.dqn = dqn\n",
    "        self.targetDqn = targetDqn\n",
    "        self.gamma = gamma\n",
    "        self.epsilon = 0.5\n",
    "        self.replace_index = 0\n",
    "        \n",
    "    def initialize(self, init_length=1000, envir=env):\n",
    "        state = env.reset().reshape([1,4])\n",
    "        for _ in range(init_length):\n",
    "            action = np.random.randint(2) #self.getAction(state)\n",
    "            next_state, reward, done , _ = env.step(action)\n",
    "            next_state = next_state.reshape([-1,4])\n",
    "\n",
    "            self.remember(state, action, reward, next_state, done)\n",
    "            if done:\n",
    "                state = env.reset().reshape([1,4])\n",
    "            else:\n",
    "                state = next_state\n",
    "\n",
    "    def remember(self, state, action, reward, next_state, done):\n",
    "        if len(self.memory) < self.memory_size:\n",
    "            self.memory.append([state, action, reward, next_state, done])\n",
    "        else:\n",
    "            self.memory[self.replace_index] = [state, action, reward, next_state, done]\n",
    "            self.replace_index += 1\n",
    "            if self.replace_index == self.memory_size:\n",
    "                self.replace_index = 0\n",
    "        \n",
    "    def generate_minibatch(self, batch_size=None):\n",
    "        batch_size = batch_size if batch_size else self.batch_size\n",
    "        batch_size = min( batch_size, len(self.memory))\n",
    "        minibatch = random.sample(self.memory, batch_size)    \n",
    "        return minibatch\n",
    "            \n",
    "    def getAction(self, state, epsilon, dqn ):\n",
    "        if np.random.rand() < epsilon:\n",
    "            return np.random.randint(action_size)\n",
    "        else:\n",
    "            return np.argmax( self.dqn.predict(state)[0] )\n",
    "        \n",
    "    def copyWeights(self, scope_src='dqn', scope_dest='targetDqn'):\n",
    "        varList_src  =  tf.trainable_variables(scope= scope_src)\n",
    "        varList_dest =  tf.trainable_variables(scope= scope_dest)\n",
    "\n",
    "        for v_src, v_dest in zip(varList_src, varList_dest):\n",
    "            temp_op = tf.assign(v_dest, v_src)\n",
    "            sess.run(temp_op)\n",
    "        \n",
    "    def trainOnHistoryBatch(self, batch_size = None):\n",
    "        #  generate minibatch from historical evidences\n",
    "        minibatch = self.generate_minibatch(batch_size)\n",
    "        train_x = np.zeros((len(minibatch), state_size))\n",
    "        train_y = np.zeros((len(minibatch), action_size))\n",
    "        for i, [state, action, reward, next_state, done] in enumerate(minibatch):\n",
    "            target = reward\n",
    "            if not done:\n",
    "                target = reward + self.gamma*( np.max(self.targetDqn.predict(next_state)[0]))\n",
    "            \n",
    "            target_f = self.dqn.predict(state)\n",
    "            target_f[0][action] = target\n",
    "            train_x[i] = state\n",
    "            train_y[i] = target_f[0]\n",
    "#         return train_x, train_y\n",
    "        # update DQN (run one epoch of training per episode with generated minibatch of states and qvalues)\n",
    "        self.dqn.train(train_x, train_y)"
   ]
  },
  {
   "cell_type": "markdown",
   "metadata": {},
   "source": [
    "Write a function that creates a minibatch from a buffer"
   ]
  },
  {
   "cell_type": "markdown",
   "metadata": {},
   "source": [
    "### Perform Function Approximation\n",
    "Initialize DQN networks and Replay objects"
   ]
  },
  {
   "cell_type": "code",
   "execution_count": 25,
   "metadata": {},
   "outputs": [],
   "source": [
    "# Play around with your learning rate, alpha decay and hidden layer units \n",
    "# Two layers with a small number of units should be enough\n",
    "tf.reset_default_graph()\n",
    "# if sess:\n",
    "#     sess.close()\n",
    "sess = tf.Session()\n",
    "\n",
    "# Initialize DQN\n",
    "DQN = QNetwork(learning_rate = 0.001, state_size = 4, action_size = 2, hidden_size = 128, alpha_decay = 0.6, scope = 'dqn')\n",
    "targetDQN = QNetwork(learning_rate = 0.001, state_size = 4, action_size = 2, hidden_size = 128, alpha_decay = 0.5, scope = 'targetDqn')\n",
    "sess.run(tf.global_variables_initializer())\n",
    "\n",
    "file_writer = tf.summary.FileWriter('/home/aditya/UCSD/Spring18/ECE276C_RoboticReinforcementLearning/HW2/logs')\n",
    "file_writer.add_graph(sess.graph)\n",
    "# set targetDQN weights to DQN weights"
   ]
  },
  {
   "cell_type": "markdown",
   "metadata": {},
   "source": [
    "#### Create a function that solves the above environment using a deep Q network that uses a minibatch strategy.\n",
    "Use the following parameters (these had to be derived empirically - there is generally no trusted way of choosing the right parameter values - i.e. gamma, number of episodes, decay rate, min_epsilon). \n",
    "\n",
    "Generate a graph of the average return per episode every 100 episodes."
   ]
  },
  {
   "cell_type": "code",
   "execution_count": 27,
   "metadata": {
    "scrolled": true
   },
   "outputs": [
    {
     "name": "stdout",
     "output_type": "stream",
     "text": [
      "Episode:  50 \t\t Return:  34 \t\t Lr =  0.001\n",
      "Episode:  100 \t\t Return:  12 \t\t Lr =  0.001\n",
      "Episode:  150 \t\t Return:  14 \t\t Lr =  0.001\n",
      "Episode:  200 \t\t Return:  33 \t\t Lr =  0.001\n",
      "Episode:  250 \t\t Return:  42 \t\t Lr =  0.001\n",
      "Episode:  300 \t\t Return:  31 \t\t Lr =  0.001\n",
      "Episode:  350 \t\t Return:  27 \t\t Lr =  0.001\n",
      "Episode:  400 \t\t Return:  104 \t\t Lr =  0.001\n",
      "Episode:  450 \t\t Return:  200 \t\t Lr =  0.0006\n",
      "Episode:  500 \t\t Return:  200 \t\t Lr =  0.0006\n",
      "Episode:  550 \t\t Return:  200 \t\t Lr =  0.0006\n",
      "Episode:  600 \t\t Return:  196 \t\t Lr =  0.0006\n",
      "Episode:  650 \t\t Return:  200 \t\t Lr =  0.0006\n",
      "Episode:  700 \t\t Return:  149 \t\t Lr =  0.0006\n",
      "Episode:  750 \t\t Return:  200 \t\t Lr =  0.0006\n",
      "Episode:  800 \t\t Return:  200 \t\t Lr =  0.0006\n",
      "Episode:  850 \t\t Return:  200 \t\t Lr =  0.0006\n",
      "Episode:  900 \t\t Return:  200 \t\t Lr =  0.0006\n",
      "Episode:  950 \t\t Return:  200 \t\t Lr =  0.00036000003\n",
      "Episode:  1000 \t\t Return:  200 \t\t Lr =  0.00036000003\n",
      "Episode:  1050 \t\t Return:  200 \t\t Lr =  0.00036000003\n",
      "Episode:  1100 \t\t Return:  176 \t\t Lr =  0.00036000003\n",
      "Episode:  1150 \t\t Return:  200 \t\t Lr =  0.00036000003\n",
      "Episode:  1200 \t\t Return:  200 \t\t Lr =  0.00036000003\n",
      "Episode:  1250 \t\t Return:  200 \t\t Lr =  0.00036000003\n",
      "Episode:  1300 \t\t Return:  200 \t\t Lr =  0.00036000003\n",
      "Episode:  1350 \t\t Return:  162 \t\t Lr =  0.00036000003\n",
      "Episode:  1400 \t\t Return:  200 \t\t Lr =  0.00036000003\n",
      "Episode:  1450 \t\t Return:  186 \t\t Lr =  0.00021600003\n",
      "Episode:  1500 \t\t Return:  157 \t\t Lr =  0.00021600003\n",
      "Episode:  1550 \t\t Return:  176 \t\t Lr =  0.00021600003\n",
      "Episode:  1600 \t\t Return:  109 \t\t Lr =  0.00021600003\n",
      "Episode:  1650 \t\t Return:  200 \t\t Lr =  0.00021600003\n",
      "Episode:  1700 \t\t Return:  200 \t\t Lr =  0.00021600003\n",
      "Episode:  1750 \t\t Return:  200 \t\t Lr =  0.00021600003\n",
      "Episode:  1800 \t\t Return:  200 \t\t Lr =  0.00021600003\n",
      "Episode:  1850 \t\t Return:  200 \t\t Lr =  0.00021600003\n",
      "Episode:  1900 \t\t Return:  200 \t\t Lr =  0.00021600003\n",
      "Episode:  1950 \t\t Return:  175 \t\t Lr =  0.00012960003\n"
     ]
    }
   ],
   "source": [
    "# Runtime parameters\n",
    "num_episodes = 2000            # max number of episodes to learn from\n",
    "gamma = 0.95                  # future reward discount\n",
    "max_steps = 500                # cut off simulation after this many steps\n",
    "\n",
    "# Exploration parameters\n",
    "min_epsilon = 0.01             # minimum exploration probability\n",
    "decay_rate = 5.0/num_episodes    # exponential decay rate for exploration prob\n",
    "returns = np.zeros(num_episodes)\n",
    "updateFreq = 50\n",
    "\n",
    "\n",
    "## Initialize Replay Buffer\n",
    "###################################\n",
    "## Populate the initial experience buffer\n",
    "###################################\n",
    "replay = Replay(dqn = DQN, targetDqn = targetDQN, max_size=10000, gamma = gamma)\n",
    "replay.initialize(init_length=1000, envir=env)\n",
    "\n",
    "\n",
    "# --> start episode \n",
    "for ep in range(1, num_episodes):\n",
    "    state = env.reset().reshape([-1,state_size])\n",
    "    epsilon = min_epsilon + (1.0 - min_epsilon)*np.exp(-decay_rate*ep)\n",
    "    done = False\n",
    "    \n",
    "    while not done:\n",
    "        # explore/exploit and get action using DQN\n",
    "        action = replay.getAction(state, epsilon, DQN)\n",
    "        # perform action and record new_state, action, reward\n",
    "        next_state, reward, done, _ = env.step(action)\n",
    "        next_state = next_state.reshape([-1,state_size])\n",
    "        # populate Replay experience buffer\n",
    "        replay.remember(state, action, reward, next_state, done)\n",
    "\n",
    "        returns[ep] += reward\n",
    "        state = next_state\n",
    "        # <-- end episode\n",
    "\n",
    "    # set targetDQN weights to DQN weights\n",
    "    if ep%updateFreq == 0:\n",
    "        replay.copyWeights('dqn','targetDqn')\n",
    "        print \"Episode: \", ep, \"\\t\\t Return: \", int(returns[ep]), \"\\t\\t Lr = \", DQN.abs_lr\n",
    "\n",
    "    # Replay\n",
    "    replay.trainOnHistoryBatch(256)    "
   ]
  },
  {
   "cell_type": "code",
   "execution_count": 28,
   "metadata": {},
   "outputs": [
    {
     "data": {
      "image/png": "[encoded data removed]",
      "text/plain": [
       "<matplotlib.figure.Figure at 0x7effad205610>"
      ]
     },
     "metadata": {},
     "output_type": "display_data"
    }
   ],
   "source": [
    "# plot average returns\n",
    "returns_over_100_episodes = []\n",
    "x = []\n",
    "for i in range(0,int(num_episodes/100)):\n",
    "    returns_over_100_episodes.append(sum(returns[100*i:100*(i+1)-1])/100)\n",
    "    x.append((i+1)*100)\n",
    "plt.plot(x,returns_over_100_episodes,'.-r')\n",
    "plt.ylabel('Average Returns per Episode')\n",
    "plt.xlabel('Num of Episodes')\n",
    "plt.show()"
   ]
  },
  {
   "cell_type": "code",
   "execution_count": 29,
   "metadata": {},
   "outputs": [
    {
     "data": {
      "image/png": "[encoded data removed]",
      "text/plain": [
       "<matplotlib.figure.Figure at 0x7effaf7efe10>"
      ]
     },
     "metadata": {},
     "output_type": "display_data"
    },
    {
     "data": {
      "image/png": "[encoded data removed]",
      "text/plain": [
       "<matplotlib.figure.Figure at 0x7effaf7efe10>"
      ]
     },
     "metadata": {},
     "output_type": "display_data"
    }
   ],
   "source": [
    "\n",
    "# DEMO FINAL NETWORK\n",
    "import matplotlib.pyplot as plt\n",
    "%matplotlib inline\n",
    "from IPython import display\n",
    "\n",
    "def show_state(env, step=0, info=\"\"):\n",
    "    plt.figure(3)\n",
    "    plt.clf()\n",
    "    plt.imshow(env.render(mode='rgb_array'))\n",
    "    plt.axis('off')\n",
    "\n",
    "    display.clear_output(wait=True)\n",
    "    display.display(plt.gcf())\n",
    "\n",
    "\n",
    "env = gym.make('CartPole-v0')\n",
    "env.reset()\n",
    "# Take one random step to get the pole and cart moving\n",
    "state, reward, done, _ = env.step(env.action_space.sample())\n",
    "state = np.reshape(state, [1, state.size])\n",
    "total_reward = 0\n",
    "for i in range(0, max_steps):\n",
    "    #env.render()\n",
    "    show_state(env,i)\n",
    "    \n",
    "    Qs = DQN.predict(state)\n",
    "    # Get action from Q-network\n",
    "    # Qs = output of DQN.model when state is passed in\n",
    "    action = np.argmax(Qs)\n",
    "    \n",
    "    # Take action, get new state and reward\n",
    "    next_state, reward, done, _ = env.step(action)\n",
    "    total_reward += reward\n",
    "\n",
    "    if done:\n",
    "        #env.close()\n",
    "        break\n",
    "    else:\n",
    "        state = np.reshape(next_state, [1, state.size])"
   ]
  },
  {
   "cell_type": "code",
   "execution_count": null,
   "metadata": {},
   "outputs": [],
   "source": []
  }
 ],
 "metadata": {
  "anaconda-cloud": {},
  "kernelspec": {
   "display_name": "tf",
   "language": "python",
   "name": "tf"
  },
  "language_info": {
   "codemirror_mode": {
    "name": "ipython",
    "version": 2
   },
   "file_extension": ".py",
   "mimetype": "text/x-python",
   "name": "python",
   "nbconvert_exporter": "python",
   "pygments_lexer": "ipython2",
   "version": "2.7.12"
  },
  "varInspector": {
   "cols": {
    "lenName": 16,
    "lenType": 16,
    "lenVar": 40
   },
   "kernels_config": {
    "python": {
     "delete_cmd_postfix": "",
     "delete_cmd_prefix": "del ",
     "library": "var_list.py",
     "varRefreshCmd": "print(var_dic_list())"
    },
    "r": {
     "delete_cmd_postfix": ") ",
     "delete_cmd_prefix": "rm(",
     "library": "var_list.r",
     "varRefreshCmd": "cat(var_dic_list()) "
    }
   },
   "types_to_exclude": [
    "module",
    "function",
    "builtin_function_or_method",
    "instance",
    "_Feature"
   ],
   "window_display": false
  }
 },
 "nbformat": 4,
 "nbformat_minor": 2
}
